{
 "cells": [
  {
   "cell_type": "markdown",
   "id": "aca2502c-0128-413b-b6c3-aecb84e9c1eb",
   "metadata": {},
   "source": [
    "### SETUP"
   ]
  },
  {
   "cell_type": "markdown",
   "id": "87551553-94aa-49cb-be62-c14cb2ce3ee7",
   "metadata": {},
   "source": [
    "note to Amelia - environment requires:\n",
    "```\n",
    "conda install r-duckdb\n",
    "conda install r-duckplyr\n",
    "conda install r-devtools\n",
    "conda install r-pkgload=1.4.1\n",
    "```"
   ]
  },
  {
   "cell_type": "code",
   "execution_count": null,
   "id": "18b0e7fc-e3a4-430f-a1f9-c5e6b4552d87",
   "metadata": {
    "vscode": {
     "languageId": "r"
    }
   },
   "outputs": [
    {
     "name": "stderr",
     "output_type": "stream",
     "text": [
      "Skipping install of 'duckdbfs' from a github remote, the SHA1 (26bc6f52) has not changed since last install.\n",
      "  Use `force = TRUE` to force installation\n",
      "\n"
     ]
    }
   ],
   "source": [
    "# Load packages\n",
    "library(\"duckdb\")\n",
    "library(\"duckplyr\")\n",
    "library(\"sf\")\n",
    "\n",
    "# Load helper functions\n",
    "# TODO: this should be done with devtools\n",
    "source(\"/projects/algorithms/tiled_gedi/gtiler/database/ducky.R\")"
   ]
  },
  {
   "cell_type": "code",
   "execution_count": 6,
   "id": "343dea3e-2d33-4288-8115-f420ac85abfb",
   "metadata": {
    "vscode": {
     "languageId": "r"
    }
   },
   "outputs": [],
   "source": [
    "# Set up GEDI data table\n",
    "gedi <- get_gedi_demo_table()"
   ]
  },
  {
   "cell_type": "markdown",
   "id": "5b3aae2a-fd53-4e77-80b3-0fc82b07df72",
   "metadata": {},
   "source": [
    "### TL;DR: I just want to read one tile"
   ]
  },
  {
   "cell_type": "code",
   "execution_count": 3,
   "id": "7cc4c839-cbc2-4a64-b7fb-fda66bf0a42a",
   "metadata": {
    "vscode": {
     "languageId": "r"
    }
   },
   "outputs": [
    {
     "name": "stdout",
     "output_type": "stream",
     "text": [
      "[1] \"NRows, NCols\"\n",
      "[1] 1099476     281\n"
     ]
    },
    {
     "data": {
      "text/html": [
       "<table class=\"dataframe\">\n",
       "<caption>A tibble: 10 × 281</caption>\n",
       "<thead>\n",
       "\t<tr><th scope=col>shot_number</th><th scope=col>elev_lowestmode</th><th scope=col>delta_time</th><th scope=col>sensitivity</th><th scope=col>sensitivity_a1</th><th scope=col>sensitivity_a2</th><th scope=col>degrade_flag</th><th scope=col>quality_flag</th><th scope=col>landsat_treecover</th><th scope=col>modis_treecover</th><th scope=col>⋯</th><th scope=col>wsci_xy</th><th scope=col>wsci_xy_pi_lower</th><th scope=col>wsci_xy_pi_upper</th><th scope=col>wsci_z</th><th scope=col>wsci_z_pi_lower</th><th scope=col>wsci_z_pi_upper</th><th scope=col>granule</th><th scope=col>absolute_time</th><th scope=col>tile_id</th><th scope=col>year</th></tr>\n",
       "\t<tr><th scope=col>&lt;dbl&gt;</th><th scope=col>&lt;dbl&gt;</th><th scope=col>&lt;dbl&gt;</th><th scope=col>&lt;dbl&gt;</th><th scope=col>&lt;dbl&gt;</th><th scope=col>&lt;dbl&gt;</th><th scope=col>&lt;int&gt;</th><th scope=col>&lt;int&gt;</th><th scope=col>&lt;dbl&gt;</th><th scope=col>&lt;dbl&gt;</th><th scope=col>⋯</th><th scope=col>&lt;dbl&gt;</th><th scope=col>&lt;dbl&gt;</th><th scope=col>&lt;dbl&gt;</th><th scope=col>&lt;dbl&gt;</th><th scope=col>&lt;dbl&gt;</th><th scope=col>&lt;dbl&gt;</th><th scope=col>&lt;chr&gt;</th><th scope=col>&lt;dttm&gt;</th><th scope=col>&lt;chr&gt;</th><th scope=col>&lt;dbl&gt;</th></tr>\n",
       "</thead>\n",
       "<tbody>\n",
       "\t<tr><td>4.843e+16</td><td>546.6480</td><td>56840613</td><td>0.9196497</td><td>0.9196497</td><td>0.9642888</td><td>0</td><td>1</td><td>0</td><td>7</td><td>⋯</td><td>5.239630</td><td>3.874005</td><td>6.605256</td><td>3.987978</td><td>2.527488</td><td>5.448467</td><td>O04843_04</td><td>2019-10-20 21:03:32</td><td>S21_W049</td><td>2019</td></tr>\n",
       "\t<tr><td>4.843e+16</td><td>552.8438</td><td>56840613</td><td>0.9193029</td><td>0.9193029</td><td>0.9677212</td><td>0</td><td>1</td><td>0</td><td>7</td><td>⋯</td><td>4.448482</td><td>2.460503</td><td>6.436460</td><td>3.855117</td><td>2.394627</td><td>5.315606</td><td>O04843_04</td><td>2019-10-20 21:03:32</td><td>S21_W049</td><td>2019</td></tr>\n",
       "\t<tr><td>4.843e+16</td><td>557.9420</td><td>56840613</td><td>0.9307649</td><td>0.9307649</td><td>0.9723060</td><td>0</td><td>1</td><td>0</td><td>5</td><td>⋯</td><td>4.491585</td><td>2.503606</td><td>6.479563</td><td>3.846448</td><td>2.385959</td><td>5.306938</td><td>O04843_04</td><td>2019-10-20 21:03:32</td><td>S21_W049</td><td>2019</td></tr>\n",
       "\t<tr><td>4.843e+16</td><td>558.8804</td><td>56840613</td><td>0.9113170</td><td>0.9113170</td><td>0.9638699</td><td>0</td><td>1</td><td>0</td><td>5</td><td>⋯</td><td>4.627255</td><td>2.639277</td><td>6.615233</td><td>3.929951</td><td>2.469462</td><td>5.390441</td><td>O04843_04</td><td>2019-10-20 21:03:32</td><td>S21_W049</td><td>2019</td></tr>\n",
       "\t<tr><td>4.843e+16</td><td>557.1823</td><td>56840613</td><td>0.9171697</td><td>0.9171697</td><td>0.9689386</td><td>0</td><td>1</td><td>0</td><td>5</td><td>⋯</td><td>4.723762</td><td>2.735783</td><td>6.711740</td><td>3.928780</td><td>2.468290</td><td>5.389269</td><td>O04843_04</td><td>2019-10-20 21:03:32</td><td>S21_W049</td><td>2019</td></tr>\n",
       "\t<tr><td>4.843e+16</td><td>557.8428</td><td>56840613</td><td>0.9435021</td><td>0.9435021</td><td>0.9788133</td><td>0</td><td>1</td><td>0</td><td>5</td><td>⋯</td><td>4.554320</td><td>2.566342</td><td>6.542299</td><td>3.824970</td><td>2.364480</td><td>5.285460</td><td>O04843_04</td><td>2019-10-20 21:03:32</td><td>S21_W049</td><td>2019</td></tr>\n",
       "\t<tr><td>4.843e+16</td><td>557.1065</td><td>56840613</td><td>0.9265028</td><td>0.9265028</td><td>0.9700567</td><td>0</td><td>1</td><td>0</td><td>5</td><td>⋯</td><td>4.450440</td><td>2.462462</td><td>6.438419</td><td>3.849425</td><td>2.388935</td><td>5.309914</td><td>O04843_04</td><td>2019-10-20 21:03:32</td><td>S21_W049</td><td>2019</td></tr>\n",
       "\t<tr><td>4.843e+16</td><td>555.5040</td><td>56840613</td><td>0.9530959</td><td>0.9530959</td><td>0.9831145</td><td>0</td><td>1</td><td>0</td><td>5</td><td>⋯</td><td>4.908318</td><td>2.920340</td><td>6.896297</td><td>3.934041</td><td>2.473551</td><td>5.394530</td><td>O04843_04</td><td>2019-10-20 21:03:32</td><td>S21_W049</td><td>2019</td></tr>\n",
       "\t<tr><td>4.843e+16</td><td>553.3867</td><td>56840613</td><td>0.9295867</td><td>0.9295867</td><td>0.9698229</td><td>0</td><td>1</td><td>0</td><td>5</td><td>⋯</td><td>4.979435</td><td>2.991457</td><td>6.967414</td><td>3.914580</td><td>2.454091</td><td>5.375070</td><td>O04843_04</td><td>2019-10-20 21:03:32</td><td>S21_W049</td><td>2019</td></tr>\n",
       "\t<tr><td>4.843e+16</td><td>552.3823</td><td>56840613</td><td>0.9354863</td><td>0.9354863</td><td>0.9803654</td><td>0</td><td>1</td><td>0</td><td>6</td><td>⋯</td><td>5.139581</td><td>3.151603</td><td>7.127560</td><td>3.962137</td><td>2.501648</td><td>5.422626</td><td>O04843_04</td><td>2019-10-20 21:03:32</td><td>S21_W049</td><td>2019</td></tr>\n",
       "</tbody>\n",
       "</table>\n"
      ],
      "text/latex": [
       "A tibble: 10 × 281\n",
       "\\begin{tabular}{lllllllllllllllllllll}\n",
       " shot\\_number & elev\\_lowestmode & delta\\_time & sensitivity & sensitivity\\_a1 & sensitivity\\_a2 & degrade\\_flag & quality\\_flag & landsat\\_treecover & modis\\_treecover & ⋯ & wsci\\_xy & wsci\\_xy\\_pi\\_lower & wsci\\_xy\\_pi\\_upper & wsci\\_z & wsci\\_z\\_pi\\_lower & wsci\\_z\\_pi\\_upper & granule & absolute\\_time & tile\\_id & year\\\\\n",
       " <dbl> & <dbl> & <dbl> & <dbl> & <dbl> & <dbl> & <int> & <int> & <dbl> & <dbl> & ⋯ & <dbl> & <dbl> & <dbl> & <dbl> & <dbl> & <dbl> & <chr> & <dttm> & <chr> & <dbl>\\\\\n",
       "\\hline\n",
       "\t 4.843e+16 & 546.6480 & 56840613 & 0.9196497 & 0.9196497 & 0.9642888 & 0 & 1 & 0 & 7 & ⋯ & 5.239630 & 3.874005 & 6.605256 & 3.987978 & 2.527488 & 5.448467 & O04843\\_04 & 2019-10-20 21:03:32 & S21\\_W049 & 2019\\\\\n",
       "\t 4.843e+16 & 552.8438 & 56840613 & 0.9193029 & 0.9193029 & 0.9677212 & 0 & 1 & 0 & 7 & ⋯ & 4.448482 & 2.460503 & 6.436460 & 3.855117 & 2.394627 & 5.315606 & O04843\\_04 & 2019-10-20 21:03:32 & S21\\_W049 & 2019\\\\\n",
       "\t 4.843e+16 & 557.9420 & 56840613 & 0.9307649 & 0.9307649 & 0.9723060 & 0 & 1 & 0 & 5 & ⋯ & 4.491585 & 2.503606 & 6.479563 & 3.846448 & 2.385959 & 5.306938 & O04843\\_04 & 2019-10-20 21:03:32 & S21\\_W049 & 2019\\\\\n",
       "\t 4.843e+16 & 558.8804 & 56840613 & 0.9113170 & 0.9113170 & 0.9638699 & 0 & 1 & 0 & 5 & ⋯ & 4.627255 & 2.639277 & 6.615233 & 3.929951 & 2.469462 & 5.390441 & O04843\\_04 & 2019-10-20 21:03:32 & S21\\_W049 & 2019\\\\\n",
       "\t 4.843e+16 & 557.1823 & 56840613 & 0.9171697 & 0.9171697 & 0.9689386 & 0 & 1 & 0 & 5 & ⋯ & 4.723762 & 2.735783 & 6.711740 & 3.928780 & 2.468290 & 5.389269 & O04843\\_04 & 2019-10-20 21:03:32 & S21\\_W049 & 2019\\\\\n",
       "\t 4.843e+16 & 557.8428 & 56840613 & 0.9435021 & 0.9435021 & 0.9788133 & 0 & 1 & 0 & 5 & ⋯ & 4.554320 & 2.566342 & 6.542299 & 3.824970 & 2.364480 & 5.285460 & O04843\\_04 & 2019-10-20 21:03:32 & S21\\_W049 & 2019\\\\\n",
       "\t 4.843e+16 & 557.1065 & 56840613 & 0.9265028 & 0.9265028 & 0.9700567 & 0 & 1 & 0 & 5 & ⋯ & 4.450440 & 2.462462 & 6.438419 & 3.849425 & 2.388935 & 5.309914 & O04843\\_04 & 2019-10-20 21:03:32 & S21\\_W049 & 2019\\\\\n",
       "\t 4.843e+16 & 555.5040 & 56840613 & 0.9530959 & 0.9530959 & 0.9831145 & 0 & 1 & 0 & 5 & ⋯ & 4.908318 & 2.920340 & 6.896297 & 3.934041 & 2.473551 & 5.394530 & O04843\\_04 & 2019-10-20 21:03:32 & S21\\_W049 & 2019\\\\\n",
       "\t 4.843e+16 & 553.3867 & 56840613 & 0.9295867 & 0.9295867 & 0.9698229 & 0 & 1 & 0 & 5 & ⋯ & 4.979435 & 2.991457 & 6.967414 & 3.914580 & 2.454091 & 5.375070 & O04843\\_04 & 2019-10-20 21:03:32 & S21\\_W049 & 2019\\\\\n",
       "\t 4.843e+16 & 552.3823 & 56840613 & 0.9354863 & 0.9354863 & 0.9803654 & 0 & 1 & 0 & 6 & ⋯ & 5.139581 & 3.151603 & 7.127560 & 3.962137 & 2.501648 & 5.422626 & O04843\\_04 & 2019-10-20 21:03:32 & S21\\_W049 & 2019\\\\\n",
       "\\end{tabular}\n"
      ],
      "text/markdown": [
       "\n",
       "A tibble: 10 × 281\n",
       "\n",
       "| shot_number &lt;dbl&gt; | elev_lowestmode &lt;dbl&gt; | delta_time &lt;dbl&gt; | sensitivity &lt;dbl&gt; | sensitivity_a1 &lt;dbl&gt; | sensitivity_a2 &lt;dbl&gt; | degrade_flag &lt;int&gt; | quality_flag &lt;int&gt; | landsat_treecover &lt;dbl&gt; | modis_treecover &lt;dbl&gt; | ⋯ ⋯ | wsci_xy &lt;dbl&gt; | wsci_xy_pi_lower &lt;dbl&gt; | wsci_xy_pi_upper &lt;dbl&gt; | wsci_z &lt;dbl&gt; | wsci_z_pi_lower &lt;dbl&gt; | wsci_z_pi_upper &lt;dbl&gt; | granule &lt;chr&gt; | absolute_time &lt;dttm&gt; | tile_id &lt;chr&gt; | year &lt;dbl&gt; |\n",
       "|---|---|---|---|---|---|---|---|---|---|---|---|---|---|---|---|---|---|---|---|---|\n",
       "| 4.843e+16 | 546.6480 | 56840613 | 0.9196497 | 0.9196497 | 0.9642888 | 0 | 1 | 0 | 7 | ⋯ | 5.239630 | 3.874005 | 6.605256 | 3.987978 | 2.527488 | 5.448467 | O04843_04 | 2019-10-20 21:03:32 | S21_W049 | 2019 |\n",
       "| 4.843e+16 | 552.8438 | 56840613 | 0.9193029 | 0.9193029 | 0.9677212 | 0 | 1 | 0 | 7 | ⋯ | 4.448482 | 2.460503 | 6.436460 | 3.855117 | 2.394627 | 5.315606 | O04843_04 | 2019-10-20 21:03:32 | S21_W049 | 2019 |\n",
       "| 4.843e+16 | 557.9420 | 56840613 | 0.9307649 | 0.9307649 | 0.9723060 | 0 | 1 | 0 | 5 | ⋯ | 4.491585 | 2.503606 | 6.479563 | 3.846448 | 2.385959 | 5.306938 | O04843_04 | 2019-10-20 21:03:32 | S21_W049 | 2019 |\n",
       "| 4.843e+16 | 558.8804 | 56840613 | 0.9113170 | 0.9113170 | 0.9638699 | 0 | 1 | 0 | 5 | ⋯ | 4.627255 | 2.639277 | 6.615233 | 3.929951 | 2.469462 | 5.390441 | O04843_04 | 2019-10-20 21:03:32 | S21_W049 | 2019 |\n",
       "| 4.843e+16 | 557.1823 | 56840613 | 0.9171697 | 0.9171697 | 0.9689386 | 0 | 1 | 0 | 5 | ⋯ | 4.723762 | 2.735783 | 6.711740 | 3.928780 | 2.468290 | 5.389269 | O04843_04 | 2019-10-20 21:03:32 | S21_W049 | 2019 |\n",
       "| 4.843e+16 | 557.8428 | 56840613 | 0.9435021 | 0.9435021 | 0.9788133 | 0 | 1 | 0 | 5 | ⋯ | 4.554320 | 2.566342 | 6.542299 | 3.824970 | 2.364480 | 5.285460 | O04843_04 | 2019-10-20 21:03:32 | S21_W049 | 2019 |\n",
       "| 4.843e+16 | 557.1065 | 56840613 | 0.9265028 | 0.9265028 | 0.9700567 | 0 | 1 | 0 | 5 | ⋯ | 4.450440 | 2.462462 | 6.438419 | 3.849425 | 2.388935 | 5.309914 | O04843_04 | 2019-10-20 21:03:32 | S21_W049 | 2019 |\n",
       "| 4.843e+16 | 555.5040 | 56840613 | 0.9530959 | 0.9530959 | 0.9831145 | 0 | 1 | 0 | 5 | ⋯ | 4.908318 | 2.920340 | 6.896297 | 3.934041 | 2.473551 | 5.394530 | O04843_04 | 2019-10-20 21:03:32 | S21_W049 | 2019 |\n",
       "| 4.843e+16 | 553.3867 | 56840613 | 0.9295867 | 0.9295867 | 0.9698229 | 0 | 1 | 0 | 5 | ⋯ | 4.979435 | 2.991457 | 6.967414 | 3.914580 | 2.454091 | 5.375070 | O04843_04 | 2019-10-20 21:03:32 | S21_W049 | 2019 |\n",
       "| 4.843e+16 | 552.3823 | 56840613 | 0.9354863 | 0.9354863 | 0.9803654 | 0 | 1 | 0 | 6 | ⋯ | 5.139581 | 3.151603 | 7.127560 | 3.962137 | 2.501648 | 5.422626 | O04843_04 | 2019-10-20 21:03:32 | S21_W049 | 2019 |\n",
       "\n"
      ],
      "text/plain": [
       "   shot_number elev_lowestmode delta_time sensitivity sensitivity_a1\n",
       "1  4.843e+16   546.6480        56840613   0.9196497   0.9196497     \n",
       "2  4.843e+16   552.8438        56840613   0.9193029   0.9193029     \n",
       "3  4.843e+16   557.9420        56840613   0.9307649   0.9307649     \n",
       "4  4.843e+16   558.8804        56840613   0.9113170   0.9113170     \n",
       "5  4.843e+16   557.1823        56840613   0.9171697   0.9171697     \n",
       "6  4.843e+16   557.8428        56840613   0.9435021   0.9435021     \n",
       "7  4.843e+16   557.1065        56840613   0.9265028   0.9265028     \n",
       "8  4.843e+16   555.5040        56840613   0.9530959   0.9530959     \n",
       "9  4.843e+16   553.3867        56840613   0.9295867   0.9295867     \n",
       "10 4.843e+16   552.3823        56840613   0.9354863   0.9354863     \n",
       "   sensitivity_a2 degrade_flag quality_flag landsat_treecover modis_treecover ⋯\n",
       "1  0.9642888      0            1            0                 7               ⋯\n",
       "2  0.9677212      0            1            0                 7               ⋯\n",
       "3  0.9723060      0            1            0                 5               ⋯\n",
       "4  0.9638699      0            1            0                 5               ⋯\n",
       "5  0.9689386      0            1            0                 5               ⋯\n",
       "6  0.9788133      0            1            0                 5               ⋯\n",
       "7  0.9700567      0            1            0                 5               ⋯\n",
       "8  0.9831145      0            1            0                 5               ⋯\n",
       "9  0.9698229      0            1            0                 5               ⋯\n",
       "10 0.9803654      0            1            0                 6               ⋯\n",
       "   wsci_xy  wsci_xy_pi_lower wsci_xy_pi_upper wsci_z   wsci_z_pi_lower\n",
       "1  5.239630 3.874005         6.605256         3.987978 2.527488       \n",
       "2  4.448482 2.460503         6.436460         3.855117 2.394627       \n",
       "3  4.491585 2.503606         6.479563         3.846448 2.385959       \n",
       "4  4.627255 2.639277         6.615233         3.929951 2.469462       \n",
       "5  4.723762 2.735783         6.711740         3.928780 2.468290       \n",
       "6  4.554320 2.566342         6.542299         3.824970 2.364480       \n",
       "7  4.450440 2.462462         6.438419         3.849425 2.388935       \n",
       "8  4.908318 2.920340         6.896297         3.934041 2.473551       \n",
       "9  4.979435 2.991457         6.967414         3.914580 2.454091       \n",
       "10 5.139581 3.151603         7.127560         3.962137 2.501648       \n",
       "   wsci_z_pi_upper granule   absolute_time       tile_id  year\n",
       "1  5.448467        O04843_04 2019-10-20 21:03:32 S21_W049 2019\n",
       "2  5.315606        O04843_04 2019-10-20 21:03:32 S21_W049 2019\n",
       "3  5.306938        O04843_04 2019-10-20 21:03:32 S21_W049 2019\n",
       "4  5.390441        O04843_04 2019-10-20 21:03:32 S21_W049 2019\n",
       "5  5.389269        O04843_04 2019-10-20 21:03:32 S21_W049 2019\n",
       "6  5.285460        O04843_04 2019-10-20 21:03:32 S21_W049 2019\n",
       "7  5.309914        O04843_04 2019-10-20 21:03:32 S21_W049 2019\n",
       "8  5.394530        O04843_04 2019-10-20 21:03:32 S21_W049 2019\n",
       "9  5.375070        O04843_04 2019-10-20 21:03:32 S21_W049 2019\n",
       "10 5.422626        O04843_04 2019-10-20 21:03:32 S21_W049 2019"
      ]
     },
     "metadata": {},
     "output_type": "display_data"
    }
   ],
   "source": [
    "tile <- \"S21_W049\"\n",
    "tdf <- gedi |>\n",
    "    filter(tile_id == tile) |>\n",
    "    select(-geometry) |>\n",
    "    collect()\n",
    "\n",
    "print(\"NRows, NCols\")\n",
    "print(dim(tdf))\n",
    "head(tdf, 10)"
   ]
  },
  {
   "cell_type": "markdown",
   "id": "541b8bae-1652-451c-8604-e0886a6d43ac",
   "metadata": {},
   "source": [
    "### Use a duckDB table as a backing dataframe for dplyr"
   ]
  },
  {
   "cell_type": "markdown",
   "id": "7af2a8a3-c874-4904-86ff-0624b5c22965",
   "metadata": {},
   "source": [
    "Unlike a usual dataframe, this one is \"lazily loaded\" -- rows and columns are only computed/read from disk when requested.\n",
    "\n",
    "We can see this at the bottom of the print: an unknown number of rows remain after the first select."
   ]
  },
  {
   "cell_type": "code",
   "execution_count": 7,
   "id": "2d0f3182-7321-4a18-9102-a9ff2ac97625",
   "metadata": {
    "vscode": {
     "languageId": "r"
    }
   },
   "outputs": [
    {
     "data": {
      "text/plain": [
       "\u001b[90m# Source:   SQL [?? x 4]\u001b[39m\n",
       "\u001b[90m# Database: DuckDB 1.4.0 [root@Linux 5.4.0-1021-aws-fips:R 4.4.3/:memory:]\u001b[39m\n",
       "   shot_number  agbd rh_98 l4_quality_flag\n",
       "         \u001b[3m\u001b[90m<dbl>\u001b[39m\u001b[23m \u001b[3m\u001b[90m<dbl>\u001b[39m\u001b[23m \u001b[3m\u001b[90m<dbl>\u001b[39m\u001b[23m           \u001b[3m\u001b[90m<int>\u001b[39m\u001b[23m\n",
       "\u001b[90m 1\u001b[39m     4.36\u001b[90me\u001b[39m16  121.  17.5               1\n",
       "\u001b[90m 2\u001b[39m     4.36\u001b[90me\u001b[39m16  152.  22.7               1\n",
       "\u001b[90m 3\u001b[39m     4.36\u001b[90me\u001b[39m16  230.  28.7               1\n",
       "\u001b[90m 4\u001b[39m     4.36\u001b[90me\u001b[39m16  143.  28.9               1\n",
       "\u001b[90m 5\u001b[39m     4.36\u001b[90me\u001b[39m16  163.  26.3               1\n",
       "\u001b[90m 6\u001b[39m     4.36\u001b[90me\u001b[39m16  160.  27.5               1\n",
       "\u001b[90m 7\u001b[39m     4.36\u001b[90me\u001b[39m16  409.  24.6               1\n",
       "\u001b[90m 8\u001b[39m     4.36\u001b[90me\u001b[39m16  177.  27.4               1\n",
       "\u001b[90m 9\u001b[39m     4.36\u001b[90me\u001b[39m16  123.  22.9               1\n",
       "\u001b[90m10\u001b[39m     4.36\u001b[90me\u001b[39m16  155.  24.4               1\n",
       "\u001b[90m# ℹ more rows\u001b[39m"
      ]
     },
     "metadata": {},
     "output_type": "display_data"
    }
   ],
   "source": [
    "# select, filter\n",
    "gedi |>\n",
    "    select(shot_number, agbd, rh_98, l4_quality_flag) |>\n",
    "    filter(l4_quality_flag == 1 & agbd > 0)"
   ]
  },
  {
   "cell_type": "code",
   "execution_count": 7,
   "id": "65a7b3c7-5c2c-413e-be62-22426d8da68f",
   "metadata": {
    "vscode": {
     "languageId": "r"
    }
   },
   "outputs": [
    {
     "name": "stderr",
     "output_type": "stream",
     "text": [
      "Warning message:\n",
      "“\u001b[1m\u001b[22mMissing values are always removed in SQL aggregation functions.\n",
      "Use `na.rm = TRUE` to silence this warning\n",
      "\u001b[90mThis warning is displayed once every 8 hours.\u001b[39m”\n"
     ]
    },
    {
     "data": {
      "text/plain": [
       "\u001b[90m# Source:   SQL [?? x 3]\u001b[39m\n",
       "\u001b[90m# Database: DuckDB 1.4.0 [root@Linux 5.4.0-1021-aws-fips:R 4.4.3/:memory:]\u001b[39m\n",
       "  mean_biomass mean_rh98      n\n",
       "         \u001b[3m\u001b[90m<dbl>\u001b[39m\u001b[23m     \u001b[3m\u001b[90m<dbl>\u001b[39m\u001b[23m  \u001b[3m\u001b[90m<dbl>\u001b[39m\u001b[23m\n",
       "\u001b[90m1\u001b[39m         12.2      5.29 \u001b[4m5\u001b[24m\u001b[4m9\u001b[24m\u001b[4m8\u001b[24m656"
      ]
     },
     "metadata": {},
     "output_type": "display_data"
    }
   ],
   "source": [
    "# computed values\n",
    "gedi |>\n",
    "    filter (l4_quality_flag == 1 & tile_id == \"S21_W049\") |>\n",
    "    summarise(mean_biomass = mean(agbd), mean_rh98 = mean(rh_98), n = n()) "
   ]
  },
  {
   "cell_type": "markdown",
   "id": "d847e224-4867-4690-b809-ee1802ba44cc",
   "metadata": {},
   "source": [
    "#### Spatial querying"
   ]
  },
  {
   "cell_type": "code",
   "execution_count": 14,
   "id": "52d7dfb5-cc3b-4353-8e20-b2ec9af35fe5",
   "metadata": {
    "vscode": {
     "languageId": "r"
    }
   },
   "outputs": [
    {
     "name": "stdout",
     "output_type": "stream",
     "text": [
      "Reading layer `test_region' from data source \n",
      "  `/projects/my-public-bucket/shapefiles/test_region.shp' using driver `ESRI Shapefile'\n",
      "Simple feature collection with 1 feature and 1 field\n",
      "Geometry type: POLYGON\n",
      "Dimension:     XY\n",
      "Bounding box:  xmin: -63.2 ymin: -4.2 xmax: -62.8 ymax: -3.8\n",
      "Geodetic CRS:  WGS 84\n",
      "EPSG:4326\n",
      "[1] \"POLYGON ((-62.8 -4.2, -63.2 -4.2, -63.2 -3.8, -62.8 -3.8, -62.8 -4.2))\"\n"
     ]
    }
   ],
   "source": [
    "# I can't figure out how to pass another geospatial dataframe into duckplyr st_contains() with R\n",
    "# For now, assuming your shape is just one row, I think the easiest thing to do is pass it as a WKT\n",
    "# Let me know if you want to work with multirow geometries\n",
    "region <- sf::st_read(\"/projects/my-public-bucket/shapefiles/test_region.shp\")\n",
    "region_wkt <- sf::st_as_text(region$geom)\n",
    "region_crs <- glue::glue(\"EPSG:{sf::st_crs(region$geom)$epsg}\")\n",
    "print(region_crs)\n",
    "print(region_wkt)"
   ]
  },
  {
   "cell_type": "code",
   "execution_count": null,
   "id": "999664e0-57b4-42a4-9257-cd5215f96210",
   "metadata": {
    "vscode": {
     "languageId": "r"
    }
   },
   "outputs": [
    {
     "data": {
      "text/plain": [
       "\u001b[90m# Source:   SQL [?? x 3]\u001b[39m\n",
       "\u001b[90m# Database: DuckDB 1.4.0 [root@Linux 5.4.0-1021-aws-fips:R 4.4.3/:memory:]\u001b[39m\n",
       "  mean_agbd mean_rh98     n\n",
       "      \u001b[3m\u001b[90m<dbl>\u001b[39m\u001b[23m     \u001b[3m\u001b[90m<dbl>\u001b[39m\u001b[23m \u001b[3m\u001b[90m<dbl>\u001b[39m\u001b[23m\n",
       "\u001b[90m1\u001b[39m      126.      20.8 \u001b[4m5\u001b[24m\u001b[4m3\u001b[24m236"
      ]
     },
     "metadata": {},
     "output_type": "display_data"
    }
   ],
   "source": [
    "# Fast spatial queries: Use get_covering_tiles() to find tiles intersecting your region\n",
    "# and use these as a filter on tile_id before doing the more expensive st_contains() operation\n",
    "# This will keep the runtime constant even as the database grows.\n",
    "\n",
    "covering_tiles <- get_covering_tiles(region) # from ducky.R\n",
    "\n",
    "gedi |>\n",
    "    filter(tile_id %in% covering_tiles) |>\n",
    "    filter(l4_quality_flag == 1) |>\n",
    "    # if your region is not EPSG:4326, transform the GEDI geometry to match as follows:\n",
    "    # filter(st_contains(region_wkt, st_transform(geometry, 'EPSG:4326', region_crs))) |>\n",
    "    filter(st_contains(region_wkt, geometry)) |>\n",
    "    summarise(mean_agbd = mean(agbd), mean_rh98 = mean(rh_98), n = n())"
   ]
  },
  {
   "cell_type": "markdown",
   "id": "d6011a7d-a65e-4ead-a79f-8e2a36c2388f",
   "metadata": {},
   "source": [
    "### Converting back to R dataframes\n",
    "When converting from a DuckDB table to an R dataframe, make sure the table is small enough to fit in memory!\n",
    "\n",
    "DuckDB is designed to execute queries on larger-than-memory datasets. The Brazil demo database, for example, contains 176 GB of data. If you read this large dataset into an R dataframe, it will cause R to crash. \n",
    "\n",
    "Instead, use select(), filter(), and/or summarise() to get a small-ish dataset (~1 million rows or fewer). You can check the number of rows with `count()` or `summarise(n = n())` to be sure.\n",
    "\n",
    "Then, you can convert to an R dataframe with a simple `select` + `collect`:"
   ]
  },
  {
   "cell_type": "code",
   "execution_count": 43,
   "id": "d6a46746-05ca-457e-b230-f601b47195ff",
   "metadata": {
    "vscode": {
     "languageId": "r"
    }
   },
   "outputs": [
    {
     "data": {
      "text/html": [
       "<table class=\"dataframe\">\n",
       "<caption>A tibble: 5 × 7</caption>\n",
       "<thead>\n",
       "\t<tr><th scope=col>shot_number</th><th scope=col>agbd</th><th scope=col>pai_z_0</th><th scope=col>pai_z_1</th><th scope=col>dz</th><th scope=col>lat_lowestmode</th><th scope=col>lon_lowestmode</th></tr>\n",
       "\t<tr><th scope=col>&lt;dbl&gt;</th><th scope=col>&lt;dbl&gt;</th><th scope=col>&lt;dbl&gt;</th><th scope=col>&lt;dbl&gt;</th><th scope=col>&lt;dbl&gt;</th><th scope=col>&lt;dbl&gt;</th><th scope=col>&lt;dbl&gt;</th></tr>\n",
       "</thead>\n",
       "<tbody>\n",
       "\t<tr><td>4.843e+16</td><td>2.299228</td><td>0.05615720</td><td>0</td><td>5</td><td>-21.28894</td><td>-48.99738</td></tr>\n",
       "\t<tr><td>4.843e+16</td><td>2.750601</td><td>0.11990180</td><td>0</td><td>5</td><td>-21.30137</td><td>-48.98665</td></tr>\n",
       "\t<tr><td>4.843e+16</td><td>3.430358</td><td>0.03100931</td><td>0</td><td>5</td><td>-21.32062</td><td>-48.96998</td></tr>\n",
       "\t<tr><td>4.843e+16</td><td>1.870119</td><td>0.07298426</td><td>0</td><td>5</td><td>-21.32821</td><td>-48.96340</td></tr>\n",
       "\t<tr><td>4.843e+16</td><td>2.750601</td><td>0.01650933</td><td>0</td><td>5</td><td>-21.34825</td><td>-48.94602</td></tr>\n",
       "</tbody>\n",
       "</table>\n"
      ],
      "text/latex": [
       "A tibble: 5 × 7\n",
       "\\begin{tabular}{lllllll}\n",
       " shot\\_number & agbd & pai\\_z\\_0 & pai\\_z\\_1 & dz & lat\\_lowestmode & lon\\_lowestmode\\\\\n",
       " <dbl> & <dbl> & <dbl> & <dbl> & <dbl> & <dbl> & <dbl>\\\\\n",
       "\\hline\n",
       "\t 4.843e+16 & 2.299228 & 0.05615720 & 0 & 5 & -21.28894 & -48.99738\\\\\n",
       "\t 4.843e+16 & 2.750601 & 0.11990180 & 0 & 5 & -21.30137 & -48.98665\\\\\n",
       "\t 4.843e+16 & 3.430358 & 0.03100931 & 0 & 5 & -21.32062 & -48.96998\\\\\n",
       "\t 4.843e+16 & 1.870119 & 0.07298426 & 0 & 5 & -21.32821 & -48.96340\\\\\n",
       "\t 4.843e+16 & 2.750601 & 0.01650933 & 0 & 5 & -21.34825 & -48.94602\\\\\n",
       "\\end{tabular}\n"
      ],
      "text/markdown": [
       "\n",
       "A tibble: 5 × 7\n",
       "\n",
       "| shot_number &lt;dbl&gt; | agbd &lt;dbl&gt; | pai_z_0 &lt;dbl&gt; | pai_z_1 &lt;dbl&gt; | dz &lt;dbl&gt; | lat_lowestmode &lt;dbl&gt; | lon_lowestmode &lt;dbl&gt; |\n",
       "|---|---|---|---|---|---|---|\n",
       "| 4.843e+16 | 2.299228 | 0.05615720 | 0 | 5 | -21.28894 | -48.99738 |\n",
       "| 4.843e+16 | 2.750601 | 0.11990180 | 0 | 5 | -21.30137 | -48.98665 |\n",
       "| 4.843e+16 | 3.430358 | 0.03100931 | 0 | 5 | -21.32062 | -48.96998 |\n",
       "| 4.843e+16 | 1.870119 | 0.07298426 | 0 | 5 | -21.32821 | -48.96340 |\n",
       "| 4.843e+16 | 2.750601 | 0.01650933 | 0 | 5 | -21.34825 | -48.94602 |\n",
       "\n"
      ],
      "text/plain": [
       "  shot_number agbd     pai_z_0    pai_z_1 dz lat_lowestmode lon_lowestmode\n",
       "1 4.843e+16   2.299228 0.05615720 0       5  -21.28894      -48.99738     \n",
       "2 4.843e+16   2.750601 0.11990180 0       5  -21.30137      -48.98665     \n",
       "3 4.843e+16   3.430358 0.03100931 0       5  -21.32062      -48.96998     \n",
       "4 4.843e+16   1.870119 0.07298426 0       5  -21.32821      -48.96340     \n",
       "5 4.843e+16   2.750601 0.01650933 0       5  -21.34825      -48.94602     "
      ]
     },
     "metadata": {},
     "output_type": "display_data"
    }
   ],
   "source": [
    "rdf <- gedi |>\n",
    "    filter(l4_quality_flag == 1 & agbd > 0 & tile_id == \"S21_W049\") |>\n",
    "    select(shot_number, agbd, pai_z_0, pai_z_1, dz, lat_lowestmode, lon_lowestmode) |>\n",
    "    collect()\n",
    "head(rdf, 5)"
   ]
  },
  {
   "cell_type": "markdown",
   "id": "65338d02-5270-4e36-985c-3c3c762f953c",
   "metadata": {},
   "source": [
    "## ⚠️ Important notes on SPATIAL columns in duckplyr ⚠️\n",
    "\n",
    "`collect` will throw an error if used on a dataframe with a geometry column. You can do the spatial operations in duckdb (as seen above with st_contains), but if you want to pull the data into R memory, I recommend dropping the geometry column `(select(-geometry))`, and using the `lat_lowestmode` and `lon_lowestmode` columns instead.\n",
    "\n",
    "In theory, we can convert DuckDB -> spatial dataframe in R using the `duckdbfs::to_sf()` function.\n",
    "However, I have found converting the geometries to be very memory-intensive and slow in R.\n",
    "I think it's not worth it unless you are converting fewer than ~50 rows.\n"
   ]
  },
  {
   "cell_type": "markdown",
   "id": "435ca6ef-a19f-4894-8ddf-df091812a029",
   "metadata": {},
   "source": [
    "Another slightly confusing thing is that duckplyr does not display the geometry column on a duckdb table, so you also have to use `lon_lowestmode` and `lat_lowestmode` if you want to preview the longitude and latitude."
   ]
  },
  {
   "cell_type": "code",
   "execution_count": 44,
   "id": "271745dd-e0bf-4196-8312-d88b11316fab",
   "metadata": {
    "vscode": {
     "languageId": "r"
    }
   },
   "outputs": [
    {
     "data": {
      "text/plain": [
       "\u001b[90m# Source:   SQL [?? x 5]\u001b[39m\n",
       "\u001b[90m# Database: DuckDB 1.4.0 [unknown@Linux 5.4.0-1021-aws-fips:R 4.4.3/:memory:]\u001b[39m\n",
       "   shot_number  agbd lon_lowestmode lat_lowestmode geometry  \n",
       "         \u001b[3m\u001b[90m<dbl>\u001b[39m\u001b[23m \u001b[3m\u001b[90m<dbl>\u001b[39m\u001b[23m          \u001b[3m\u001b[90m<dbl>\u001b[39m\u001b[23m          \u001b[3m\u001b[90m<dbl>\u001b[39m\u001b[23m \u001b[3m\u001b[90m<list>\u001b[39m\u001b[23m    \n",
       "\u001b[90m 1\u001b[39m     4.84\u001b[90me\u001b[39m16  2.30          -\u001b[31m49\u001b[39m\u001b[31m.\u001b[39m\u001b[31m0\u001b[39m          -\u001b[31m21\u001b[39m\u001b[31m.\u001b[39m\u001b[31m3\u001b[39m \u001b[90m<raw [32]>\u001b[39m\n",
       "\u001b[90m 2\u001b[39m     4.84\u001b[90me\u001b[39m16  2.75          -\u001b[31m49\u001b[39m\u001b[31m.\u001b[39m\u001b[31m0\u001b[39m          -\u001b[31m21\u001b[39m\u001b[31m.\u001b[39m\u001b[31m3\u001b[39m \u001b[90m<raw [32]>\u001b[39m\n",
       "\u001b[90m 3\u001b[39m     4.84\u001b[90me\u001b[39m16  3.43          -\u001b[31m49\u001b[39m\u001b[31m.\u001b[39m\u001b[31m0\u001b[39m          -\u001b[31m21\u001b[39m\u001b[31m.\u001b[39m\u001b[31m3\u001b[39m \u001b[90m<raw [32]>\u001b[39m\n",
       "\u001b[90m 4\u001b[39m     4.84\u001b[90me\u001b[39m16  1.87          -\u001b[31m49\u001b[39m\u001b[31m.\u001b[39m\u001b[31m0\u001b[39m          -\u001b[31m21\u001b[39m\u001b[31m.\u001b[39m\u001b[31m3\u001b[39m \u001b[90m<raw [32]>\u001b[39m\n",
       "\u001b[90m 5\u001b[39m     4.84\u001b[90me\u001b[39m16  2.75          -\u001b[31m48\u001b[39m\u001b[31m.\u001b[39m\u001b[31m9\u001b[39m          -\u001b[31m21\u001b[39m\u001b[31m.\u001b[39m\u001b[31m3\u001b[39m \u001b[90m<raw [32]>\u001b[39m\n",
       "\u001b[90m 6\u001b[39m     4.84\u001b[90me\u001b[39m16  4.90          -\u001b[31m48\u001b[39m\u001b[31m.\u001b[39m\u001b[31m9\u001b[39m          -\u001b[31m21\u001b[39m\u001b[31m.\u001b[39m\u001b[31m4\u001b[39m \u001b[90m<raw [32]>\u001b[39m\n",
       "\u001b[90m 7\u001b[39m     4.84\u001b[90me\u001b[39m16  4.70          -\u001b[31m48\u001b[39m\u001b[31m.\u001b[39m\u001b[31m9\u001b[39m          -\u001b[31m21\u001b[39m\u001b[31m.\u001b[39m\u001b[31m4\u001b[39m \u001b[90m<raw [32]>\u001b[39m\n",
       "\u001b[90m 8\u001b[39m     4.84\u001b[90me\u001b[39m16  1.82          -\u001b[31m48\u001b[39m\u001b[31m.\u001b[39m\u001b[31m9\u001b[39m          -\u001b[31m21\u001b[39m\u001b[31m.\u001b[39m\u001b[31m4\u001b[39m \u001b[90m<raw [32]>\u001b[39m\n",
       "\u001b[90m 9\u001b[39m     4.84\u001b[90me\u001b[39m16  1.82          -\u001b[31m48\u001b[39m\u001b[31m.\u001b[39m\u001b[31m9\u001b[39m          -\u001b[31m21\u001b[39m\u001b[31m.\u001b[39m\u001b[31m4\u001b[39m \u001b[90m<raw [32]>\u001b[39m\n",
       "\u001b[90m10\u001b[39m     4.84\u001b[90me\u001b[39m16  1.82          -\u001b[31m48\u001b[39m\u001b[31m.\u001b[39m\u001b[31m9\u001b[39m          -\u001b[31m21\u001b[39m\u001b[31m.\u001b[39m\u001b[31m4\u001b[39m \u001b[90m<raw [32]>\u001b[39m\n",
       "\u001b[90m# ℹ more rows\u001b[39m"
      ]
     },
     "metadata": {},
     "output_type": "display_data"
    }
   ],
   "source": [
    "# It looks like the geometry column is invalid\n",
    "gedi |>\n",
    "    filter (l4_quality_flag == 1 & agbd > 0 & tile_id == \"S21_W049\") |>\n",
    "    select (shot_number, agbd, lon_lowestmode, lat_lowestmode, geometry)\n"
   ]
  },
  {
   "cell_type": "code",
   "execution_count": 45,
   "id": "38c1c8ed-7231-40a6-b712-7d5e3cd0801a",
   "metadata": {
    "vscode": {
     "languageId": "r"
    }
   },
   "outputs": [
    {
     "data": {
      "application/geo+json": {
       "features": [
        {
         "geometry": {
          "coordinates": [
           -48.9974,
           -21.2889
          ],
          "type": "Point"
         },
         "properties": {
          "agbd": 2.2992,
          "lat_lowestmode": -21.2889,
          "lon_lowestmode": -48.9974,
          "shot_number": 48430000400337040
         },
         "type": "Feature"
        },
        {
         "geometry": {
          "coordinates": [
           -48.9867,
           -21.3014
          ],
          "type": "Point"
         },
         "properties": {
          "agbd": 2.7506,
          "lat_lowestmode": -21.3014,
          "lon_lowestmode": -48.9867,
          "shot_number": 48430000400337070
         },
         "type": "Feature"
        },
        {
         "geometry": {
          "coordinates": [
           -48.97,
           -21.3206
          ],
          "type": "Point"
         },
         "properties": {
          "agbd": 3.4304,
          "lat_lowestmode": -21.3206,
          "lon_lowestmode": -48.97,
          "shot_number": 48430000400337120
         },
         "type": "Feature"
        },
        {
         "geometry": {
          "coordinates": [
           -48.9634,
           -21.3282
          ],
          "type": "Point"
         },
         "properties": {
          "agbd": 1.8701,
          "lat_lowestmode": -21.3282,
          "lon_lowestmode": -48.9634,
          "shot_number": 48430000400337140
         },
         "type": "Feature"
        },
        {
         "geometry": {
          "coordinates": [
           -48.946,
           -21.3482
          ],
          "type": "Point"
         },
         "properties": {
          "agbd": 2.7506,
          "lat_lowestmode": -21.3482,
          "lon_lowestmode": -48.946,
          "shot_number": 48430000400337190
         },
         "type": "Feature"
        },
        {
         "geometry": {
          "coordinates": [
           -48.9439,
           -21.3507
          ],
          "type": "Point"
         },
         "properties": {
          "agbd": 4.8966,
          "lat_lowestmode": -21.3507,
          "lon_lowestmode": -48.9439,
          "shot_number": 48430000400337200
         },
         "type": "Feature"
        },
        {
         "geometry": {
          "coordinates": [
           -48.9231,
           -21.3747
          ],
          "type": "Point"
         },
         "properties": {
          "agbd": 4.6993,
          "lat_lowestmode": -21.3747,
          "lon_lowestmode": -48.9231,
          "shot_number": 48430000400337256
         },
         "type": "Feature"
        },
        {
         "geometry": {
          "coordinates": [
           -48.9008,
           -21.4003
          ],
          "type": "Point"
         },
         "properties": {
          "agbd": 1.8174,
          "lat_lowestmode": -21.4003,
          "lon_lowestmode": -48.9008,
          "shot_number": 48430000400337320
         },
         "type": "Feature"
        },
        {
         "geometry": {
          "coordinates": [
           -48.9005,
           -21.4007
          ],
          "type": "Point"
         },
         "properties": {
          "agbd": 1.8174,
          "lat_lowestmode": -21.4007,
          "lon_lowestmode": -48.9005,
          "shot_number": 48430000400337320
         },
         "type": "Feature"
        },
        {
         "geometry": {
          "coordinates": [
           -48.8991,
           -21.4023
          ],
          "type": "Point"
         },
         "properties": {
          "agbd": 1.8174,
          "lat_lowestmode": -21.4023,
          "lon_lowestmode": -48.8991,
          "shot_number": 48430000400337330
         },
         "type": "Feature"
        }
       ],
       "type": "FeatureCollection"
      },
      "text/html": [
       "<table class=\"dataframe\">\n",
       "<caption>A sf: 10 × 5</caption>\n",
       "<thead>\n",
       "\t<tr><th scope=col>shot_number</th><th scope=col>agbd</th><th scope=col>lon_lowestmode</th><th scope=col>lat_lowestmode</th><th scope=col>geom</th></tr>\n",
       "\t<tr><th scope=col>&lt;dbl&gt;</th><th scope=col>&lt;dbl&gt;</th><th scope=col>&lt;dbl&gt;</th><th scope=col>&lt;dbl&gt;</th><th scope=col>&lt;POINT&gt;</th></tr>\n",
       "</thead>\n",
       "<tbody>\n",
       "\t<tr><td>4.843e+16</td><td>2.299228</td><td>-48.99738</td><td>-21.28894</td><td>POINT (-48.99738 -21.28894)</td></tr>\n",
       "\t<tr><td>4.843e+16</td><td>2.750601</td><td>-48.98665</td><td>-21.30137</td><td>POINT (-48.98665 -21.30137)</td></tr>\n",
       "\t<tr><td>4.843e+16</td><td>3.430358</td><td>-48.96998</td><td>-21.32062</td><td>POINT (-48.96998 -21.32062)</td></tr>\n",
       "\t<tr><td>4.843e+16</td><td>1.870119</td><td>-48.96340</td><td>-21.32821</td><td>POINT (-48.9634 -21.32821)</td></tr>\n",
       "\t<tr><td>4.843e+16</td><td>2.750601</td><td>-48.94602</td><td>-21.34825</td><td>POINT (-48.94602 -21.34825)</td></tr>\n",
       "\t<tr><td>4.843e+16</td><td>4.896555</td><td>-48.94393</td><td>-21.35066</td><td>POINT (-48.94393 -21.35066)</td></tr>\n",
       "\t<tr><td>4.843e+16</td><td>4.699281</td><td>-48.92309</td><td>-21.37467</td><td>POINT (-48.92309 -21.37467)</td></tr>\n",
       "\t<tr><td>4.843e+16</td><td>1.817380</td><td>-48.90084</td><td>-21.40032</td><td>POINT (-48.90084 -21.40032)</td></tr>\n",
       "\t<tr><td>4.843e+16</td><td>1.817380</td><td>-48.90049</td><td>-21.40073</td><td>POINT (-48.90049 -21.40073)</td></tr>\n",
       "\t<tr><td>4.843e+16</td><td>1.817380</td><td>-48.89910</td><td>-21.40233</td><td>POINT (-48.8991 -21.40233)</td></tr>\n",
       "</tbody>\n",
       "</table>\n"
      ],
      "text/latex": [
       "A sf: 10 × 5\n",
       "\\begin{tabular}{lllll}\n",
       " shot\\_number & agbd & lon\\_lowestmode & lat\\_lowestmode & geom\\\\\n",
       " <dbl> & <dbl> & <dbl> & <dbl> & <POINT>\\\\\n",
       "\\hline\n",
       "\t 4.843e+16 & 2.299228 & -48.99738 & -21.28894 & POINT (-48.99738 -21.28894)\\\\\n",
       "\t 4.843e+16 & 2.750601 & -48.98665 & -21.30137 & POINT (-48.98665 -21.30137)\\\\\n",
       "\t 4.843e+16 & 3.430358 & -48.96998 & -21.32062 & POINT (-48.96998 -21.32062)\\\\\n",
       "\t 4.843e+16 & 1.870119 & -48.96340 & -21.32821 & POINT (-48.9634 -21.32821)\\\\\n",
       "\t 4.843e+16 & 2.750601 & -48.94602 & -21.34825 & POINT (-48.94602 -21.34825)\\\\\n",
       "\t 4.843e+16 & 4.896555 & -48.94393 & -21.35066 & POINT (-48.94393 -21.35066)\\\\\n",
       "\t 4.843e+16 & 4.699281 & -48.92309 & -21.37467 & POINT (-48.92309 -21.37467)\\\\\n",
       "\t 4.843e+16 & 1.817380 & -48.90084 & -21.40032 & POINT (-48.90084 -21.40032)\\\\\n",
       "\t 4.843e+16 & 1.817380 & -48.90049 & -21.40073 & POINT (-48.90049 -21.40073)\\\\\n",
       "\t 4.843e+16 & 1.817380 & -48.89910 & -21.40233 & POINT (-48.8991 -21.40233)\\\\\n",
       "\\end{tabular}\n"
      ],
      "text/markdown": [
       "\n",
       "A sf: 10 × 5\n",
       "\n",
       "| shot_number &lt;dbl&gt; | agbd &lt;dbl&gt; | lon_lowestmode &lt;dbl&gt; | lat_lowestmode &lt;dbl&gt; | geom &lt;POINT&gt; |\n",
       "|---|---|---|---|---|\n",
       "| 4.843e+16 | 2.299228 | -48.99738 | -21.28894 | POINT (-48.99738 -21.28894) |\n",
       "| 4.843e+16 | 2.750601 | -48.98665 | -21.30137 | POINT (-48.98665 -21.30137) |\n",
       "| 4.843e+16 | 3.430358 | -48.96998 | -21.32062 | POINT (-48.96998 -21.32062) |\n",
       "| 4.843e+16 | 1.870119 | -48.96340 | -21.32821 | POINT (-48.9634 -21.32821) |\n",
       "| 4.843e+16 | 2.750601 | -48.94602 | -21.34825 | POINT (-48.94602 -21.34825) |\n",
       "| 4.843e+16 | 4.896555 | -48.94393 | -21.35066 | POINT (-48.94393 -21.35066) |\n",
       "| 4.843e+16 | 4.699281 | -48.92309 | -21.37467 | POINT (-48.92309 -21.37467) |\n",
       "| 4.843e+16 | 1.817380 | -48.90084 | -21.40032 | POINT (-48.90084 -21.40032) |\n",
       "| 4.843e+16 | 1.817380 | -48.90049 | -21.40073 | POINT (-48.90049 -21.40073) |\n",
       "| 4.843e+16 | 1.817380 | -48.89910 | -21.40233 | POINT (-48.8991 -21.40233) |\n",
       "\n"
      ],
      "text/plain": [
       "   shot_number agbd     lon_lowestmode lat_lowestmode\n",
       "1  4.843e+16   2.299228 -48.99738      -21.28894     \n",
       "2  4.843e+16   2.750601 -48.98665      -21.30137     \n",
       "3  4.843e+16   3.430358 -48.96998      -21.32062     \n",
       "4  4.843e+16   1.870119 -48.96340      -21.32821     \n",
       "5  4.843e+16   2.750601 -48.94602      -21.34825     \n",
       "6  4.843e+16   4.896555 -48.94393      -21.35066     \n",
       "7  4.843e+16   4.699281 -48.92309      -21.37467     \n",
       "8  4.843e+16   1.817380 -48.90084      -21.40032     \n",
       "9  4.843e+16   1.817380 -48.90049      -21.40073     \n",
       "10 4.843e+16   1.817380 -48.89910      -21.40233     \n",
       "   geom                       \n",
       "1  POINT (-48.99738 -21.28894)\n",
       "2  POINT (-48.98665 -21.30137)\n",
       "3  POINT (-48.96998 -21.32062)\n",
       "4  POINT (-48.9634 -21.32821) \n",
       "5  POINT (-48.94602 -21.34825)\n",
       "6  POINT (-48.94393 -21.35066)\n",
       "7  POINT (-48.92309 -21.37467)\n",
       "8  POINT (-48.90084 -21.40032)\n",
       "9  POINT (-48.90049 -21.40073)\n",
       "10 POINT (-48.8991 -21.40233) "
      ]
     },
     "metadata": {},
     "output_type": "display_data"
    }
   ],
   "source": [
    "# but if we bring it into memory with to_sf(), we can see that it is correct\n",
    "gedi |>\n",
    "    filter (l4_quality_flag == 1 & agbd > 0 & tile_id == \"S21_W049\") |>\n",
    "    select (shot_number, agbd, lon_lowestmode, lat_lowestmode, geometry) |>\n",
    "    # Use head() to make sure we read just a few rows\n",
    "    head(10) |>\n",
    "    to_sf()"
   ]
  }
 ],
 "metadata": {
  "kernelspec": {
   "display_name": "R",
   "language": "R",
   "name": "ir"
  },
  "language_info": {
   "codemirror_mode": "r",
   "file_extension": ".r",
   "mimetype": "text/x-r-source",
   "name": "R",
   "pygments_lexer": "r",
   "version": "4.4.3"
  }
 },
 "nbformat": 4,
 "nbformat_minor": 5
}
